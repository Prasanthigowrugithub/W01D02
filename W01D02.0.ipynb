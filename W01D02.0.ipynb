{
 "cells": [
  {
   "cell_type": "code",
   "execution_count": 13,
   "id": "6dc2661b",
   "metadata": {},
   "outputs": [
    {
     "ename": "NameError",
     "evalue": "name 'Print' is not defined",
     "output_type": "error",
     "traceback": [
      "\u001b[1;31m-------------------------------------------------------\u001b[0m",
      "\u001b[1;31mNameError\u001b[0m             Traceback (most recent call last)",
      "Input \u001b[1;32mIn [13]\u001b[0m, in \u001b[0;36m<cell line: 1>\u001b[1;34m()\u001b[0m\n\u001b[1;32m----> 1\u001b[0m \u001b[43mPrint\u001b[49m(\u001b[38;5;124m\"\u001b[39m\u001b[38;5;124mThis is my first program\u001b[39m\u001b[38;5;124m\"\u001b[39m)\n",
      "\u001b[1;31mNameError\u001b[0m: name 'Print' is not defined"
     ]
    }
   ],
   "source": [
    "Print(\"This is my first program\")"
   ]
  },
  {
   "cell_type": "code",
   "execution_count": 2,
   "id": "77497e2a",
   "metadata": {},
   "outputs": [
    {
     "name": "stdout",
     "output_type": "stream",
     "text": [
      "This is my first program\n"
     ]
    }
   ],
   "source": [
    "print(\"This is my first program\")"
   ]
  },
  {
   "cell_type": "markdown",
   "id": "748e4611",
   "metadata": {},
   "source": [
    "###veriables declaration in python\n",
    "1) a variable name start with a letter or the underscore character(A-Z,0-9,and _,age,Age,AGE)."
   ]
  },
  {
   "cell_type": "code",
   "execution_count": null,
   "id": "9ae55725",
   "metadata": {},
   "outputs": [],
   "source": [
    "student_1\n",
    "_student\n",
    "Student_1"
   ]
  },
  {
   "cell_type": "raw",
   "id": "5a51bf65",
   "metadata": {},
   "source": [
    "### 2)A variable name cannot start with a letter or a special character"
   ]
  },
  {
   "cell_type": "code",
   "execution_count": 5,
   "id": "abcc6756",
   "metadata": {},
   "outputs": [
    {
     "ename": "SyntaxError",
     "evalue": "invalid decimal literal (1629973970.py, line 1)",
     "output_type": "error",
     "traceback": [
      "\u001b[1;36m  Input \u001b[1;32mIn [5]\u001b[1;36m\u001b[0m\n\u001b[1;33m    1student = \"Prasanthi\"\u001b[0m\n\u001b[1;37m    ^\u001b[0m\n\u001b[1;31mSyntaxError\u001b[0m\u001b[1;31m:\u001b[0m invalid decimal literal\n"
     ]
    }
   ],
   "source": [
    "1student = \"Prasanthi\""
   ]
  },
  {
   "cell_type": "code",
   "execution_count": 6,
   "id": "6ae420df",
   "metadata": {},
   "outputs": [
    {
     "ename": "SyntaxError",
     "evalue": "invalid syntax (3862072632.py, line 1)",
     "output_type": "error",
     "traceback": [
      "\u001b[1;36m  Input \u001b[1;32mIn [6]\u001b[1;36m\u001b[0m\n\u001b[1;33m    $student = \"Prasanthi\"\u001b[0m\n\u001b[1;37m    ^\u001b[0m\n\u001b[1;31mSyntaxError\u001b[0m\u001b[1;31m:\u001b[0m invalid syntax\n"
     ]
    }
   ],
   "source": [
    "$student = \"Prasanthi\""
   ]
  },
  {
   "cell_type": "raw",
   "id": "4d120f69",
   "metadata": {},
   "source": [
    "#examples"
   ]
  },
  {
   "cell_type": "code",
   "execution_count": 7,
   "id": "19e6b958",
   "metadata": {},
   "outputs": [],
   "source": [
    "student20= \"Prasanthi\""
   ]
  },
  {
   "cell_type": "code",
   "execution_count": 11,
   "id": "fef0f98d",
   "metadata": {},
   "outputs": [
    {
     "ename": "SyntaxError",
     "evalue": "invalid decimal literal (1156464941.py, line 1)",
     "output_type": "error",
     "traceback": [
      "\u001b[1;36m  Input \u001b[1;32mIn [11]\u001b[1;36m\u001b[0m\n\u001b[1;33m    20student= \"Prasanthi\"\u001b[0m\n\u001b[1;37m     ^\u001b[0m\n\u001b[1;31mSyntaxError\u001b[0m\u001b[1;31m:\u001b[0m invalid decimal literal\n"
     ]
    }
   ],
   "source": [
    "20student= \"Prasanthi\""
   ]
  },
  {
   "cell_type": "code",
   "execution_count": 8,
   "id": "2a35df09",
   "metadata": {},
   "outputs": [
    {
     "ename": "SyntaxError",
     "evalue": "invalid syntax (1786942975.py, line 1)",
     "output_type": "error",
     "traceback": [
      "\u001b[1;36m  Input \u001b[1;32mIn [8]\u001b[1;36m\u001b[0m\n\u001b[1;33m    student$= \"Prasanthi\"\u001b[0m\n\u001b[1;37m           ^\u001b[0m\n\u001b[1;31mSyntaxError\u001b[0m\u001b[1;31m:\u001b[0m invalid syntax\n"
     ]
    }
   ],
   "source": [
    "student$= \"Prasanthi\""
   ]
  },
  {
   "cell_type": "code",
   "execution_count": 9,
   "id": "140aed5f",
   "metadata": {},
   "outputs": [],
   "source": [
    "stu2dent= \"Prasanthi\""
   ]
  },
  {
   "cell_type": "code",
   "execution_count": 10,
   "id": "2e62f8d1",
   "metadata": {},
   "outputs": [
    {
     "ename": "NameError",
     "evalue": "name 'student2' is not defined",
     "output_type": "error",
     "traceback": [
      "\u001b[1;31m-------------------------------------------------------\u001b[0m",
      "\u001b[1;31mNameError\u001b[0m             Traceback (most recent call last)",
      "Input \u001b[1;32mIn [10]\u001b[0m, in \u001b[0;36m<cell line: 1>\u001b[1;34m()\u001b[0m\n\u001b[1;32m----> 1\u001b[0m student2\u001b[38;5;241m^\u001b[39m\u001b[38;5;241m=\u001b[39m \u001b[38;5;124m\"\u001b[39m\u001b[38;5;124mPrasanthi\u001b[39m\u001b[38;5;124m\"\u001b[39m\n",
      "\u001b[1;31mNameError\u001b[0m: name 'student2' is not defined"
     ]
    }
   ],
   "source": [
    "student2^= \"Prasanthi\""
   ]
  },
  {
   "cell_type": "markdown",
   "id": "85110e84",
   "metadata": {},
   "source": [
    "### Declaring numeric data types(integer,Float,Complex)"
   ]
  },
  {
   "cell_type": "code",
   "execution_count": 14,
   "id": "e30aeaa1",
   "metadata": {},
   "outputs": [
    {
     "name": "stdout",
     "output_type": "stream",
     "text": [
      "<class 'int'>\n"
     ]
    }
   ],
   "source": [
    "marks_student_1 = 100\n",
    "print(type(marks_student_1))"
   ]
  },
  {
   "cell_type": "code",
   "execution_count": 16,
   "id": "e9aaee80",
   "metadata": {},
   "outputs": [
    {
     "name": "stdout",
     "output_type": "stream",
     "text": [
      "<class 'float'>\n"
     ]
    }
   ],
   "source": [
    "marks_student_2 = 99.9\n",
    "print(type(marks_student_2))"
   ]
  },
  {
   "cell_type": "code",
   "execution_count": 17,
   "id": "a99fd22b",
   "metadata": {},
   "outputs": [
    {
     "name": "stdout",
     "output_type": "stream",
     "text": [
      "<class 'complex'>\n"
     ]
    }
   ],
   "source": [
    "marks_student_3 = 3+4j\n",
    "print(type(marks_student_3))"
   ]
  },
  {
   "cell_type": "markdown",
   "id": "34c0d7f6",
   "metadata": {},
   "source": [
    "### String data type\n",
    "All examples are different:"
   ]
  },
  {
   "cell_type": "code",
   "execution_count": 18,
   "id": "7be665fd",
   "metadata": {},
   "outputs": [
    {
     "name": "stdout",
     "output_type": "stream",
     "text": [
      "<class 'str'>\n"
     ]
    }
   ],
   "source": [
    "student_1_name= \"Prasanthi\"\n",
    "print(type(student_1_name))"
   ]
  },
  {
   "cell_type": "code",
   "execution_count": 20,
   "id": "2f35385e",
   "metadata": {},
   "outputs": [
    {
     "name": "stdout",
     "output_type": "stream",
     "text": [
      "<class 'str'>\n"
     ]
    }
   ],
   "source": [
    "student_2_name= \"prasanthi\"\n",
    "print(type(student_2_name))"
   ]
  },
  {
   "cell_type": "code",
   "execution_count": 21,
   "id": "4ed0acff",
   "metadata": {},
   "outputs": [
    {
     "name": "stdout",
     "output_type": "stream",
     "text": [
      "<class 'str'>\n"
     ]
    }
   ],
   "source": [
    "student_3_name= 'phani'\n",
    "print(type(student_3_name))"
   ]
  },
  {
   "cell_type": "code",
   "execution_count": 22,
   "id": "9f8e637e",
   "metadata": {},
   "outputs": [
    {
     "name": "stdout",
     "output_type": "stream",
     "text": [
      "<class 'str'>\n"
     ]
    }
   ],
   "source": [
    "student_4_name= \"\"\"Padma\"\"\"\n",
    "print(type(student_4_name))"
   ]
  },
  {
   "cell_type": "code",
   "execution_count": null,
   "id": "abd869fe",
   "metadata": {},
   "outputs": [],
   "source": []
  }
 ],
 "metadata": {
  "kernelspec": {
   "display_name": "Python 3 (ipykernel)",
   "language": "python",
   "name": "python3"
  },
  "language_info": {
   "codemirror_mode": {
    "name": "ipython",
    "version": 3
   },
   "file_extension": ".py",
   "mimetype": "text/x-python",
   "name": "python",
   "nbconvert_exporter": "python",
   "pygments_lexer": "ipython3",
   "version": "3.10.6"
  }
 },
 "nbformat": 4,
 "nbformat_minor": 5
}
